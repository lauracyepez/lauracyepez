{
 "cells": [
  {
   "cell_type": "markdown",
   "id": "712493d3",
   "metadata": {},
   "source": [
    "# Fundamentos de Python \n",
    "*Variables\n",
    "*Operadores matematicos\n",
    "*Operadores logicos\n",
    "*Operadores de comparacion\n",
    "*Condicionales\n",
    "    -Simples\n",
    "    -Compuestos\n",
    "    -Anidados\n",
    "    -Encadenados\n",
    "*Ciclos\n",
    "    -Finitos (For)\n",
    "    -Infinitos (While)\n",
    "*Funciones\n",
    "*Estructura de datos\n",
    "    -Caracteres\n",
    "    -Enteros\n",
    "    -Flotantes\n",
    "    -Listas\n",
    "    -Diccionarios\n",
    "    -Tuplas\n",
    "*Fundamentos de POO\n"
   ]
  },
  {
   "cell_type": "code",
   "execution_count": 1,
   "id": "a88df059",
   "metadata": {},
   "outputs": [
    {
     "name": "stdout",
     "output_type": "stream",
     "text": [
      "Epale\n"
     ]
    }
   ],
   "source": [
    "print(\"Epale\")"
   ]
  },
  {
   "cell_type": "code",
   "execution_count": null,
   "id": "21774bd3",
   "metadata": {},
   "outputs": [],
   "source": [
    "# variables\n",
    "name = \"Javier\"     \n",
    "\n"
   ]
  },
  {
   "cell_type": "code",
   "execution_count": 2,
   "id": "ea87ddc6",
   "metadata": {},
   "outputs": [],
   "source": [
    "last_name = \"Gonzalez\""
   ]
  },
  {
   "cell_type": "code",
   "execution_count": 3,
   "id": "e97dbf94",
   "metadata": {},
   "outputs": [],
   "source": [
    "# Operadores matematicos\n",
    "suma = 2 + 2\n",
    "resta = 2 -2 \n",
    "multiplicacion = 2 * 2\n",
    "division = 2/2\n"
   ]
  },
  {
   "cell_type": "code",
   "execution_count": 38,
   "id": "fb7e99a9",
   "metadata": {},
   "outputs": [],
   "source": [
    "number1= 12\n",
    "number2= 20,5\n"
   ]
  },
  {
   "cell_type": "code",
   "execution_count": 9,
   "id": "03e714e1",
   "metadata": {},
   "outputs": [],
   "source": [
    "suma=number1+number2\n",
    "resta=number1-number2"
   ]
  },
  {
   "cell_type": "code",
   "execution_count": 6,
   "id": "439ee580",
   "metadata": {},
   "outputs": [
    {
     "data": {
      "text/plain": [
       "32"
      ]
     },
     "execution_count": 6,
     "metadata": {},
     "output_type": "execute_result"
    }
   ],
   "source": [
    "suma"
   ]
  },
  {
   "cell_type": "code",
   "execution_count": 10,
   "id": "442e7a2b",
   "metadata": {},
   "outputs": [
    {
     "name": "stdout",
     "output_type": "stream",
     "text": [
      "32\n",
      "-8\n"
     ]
    }
   ],
   "source": [
    "print (suma)\n",
    "print (resta)"
   ]
  },
  {
   "cell_type": "code",
   "execution_count": 14,
   "id": "b5d0681e",
   "metadata": {},
   "outputs": [
    {
     "name": "stdout",
     "output_type": "stream",
     "text": [
      "El resultado de la suma es:32\n"
     ]
    }
   ],
   "source": [
    "print(f\"El resultado de la suma es:{suma}\")"
   ]
  },
  {
   "cell_type": "code",
   "execution_count": null,
   "id": "d772e95d",
   "metadata": {},
   "outputs": [],
   "source": [
    "# operadores de comparacion\n",
    "# igual a ==\n",
    "# mayor que >\n",
    "# menor que <\n",
    "# mayor o igual que >=\n",
    "# menor o igual que <=\n",
    "# diferente !=\n"
   ]
  },
  {
   "cell_type": "code",
   "execution_count": 15,
   "id": "b11837aa",
   "metadata": {},
   "outputs": [
    {
     "data": {
      "text/plain": [
       "True"
      ]
     },
     "execution_count": 15,
     "metadata": {},
     "output_type": "execute_result"
    }
   ],
   "source": [
    "3>2"
   ]
  },
  {
   "cell_type": "code",
   "execution_count": 16,
   "id": "b8b0bd7f",
   "metadata": {},
   "outputs": [
    {
     "data": {
      "text/plain": [
       "False"
      ]
     },
     "execution_count": 16,
     "metadata": {},
     "output_type": "execute_result"
    }
   ],
   "source": [
    "number1 ==number2"
   ]
  },
  {
   "cell_type": "code",
   "execution_count": 20,
   "id": "1e978c87",
   "metadata": {},
   "outputs": [
    {
     "name": "stdout",
     "output_type": "stream",
     "text": [
      "number1 es menor que number2\n"
     ]
    }
   ],
   "source": [
    "# Condicionales\n",
    "if number1<number2: \n",
    "    print(\"number1 es menor que number2\")\n"
   ]
  },
  {
   "cell_type": "code",
   "execution_count": null,
   "id": "ecceb1cb",
   "metadata": {},
   "outputs": [
    {
     "name": "stdout",
     "output_type": "stream",
     "text": [
      "number1 no es mayor que number2\n"
     ]
    }
   ],
   "source": [
    "    # Condicionales\n",
    "    if number1>number2:\n",
    "     print(\"number1 es mayor que number2\")\n",
    "    else:\n",
    "        print(\"number1 no es mayor que number2\")"
   ]
  },
  {
   "cell_type": "code",
   "execution_count": 31,
   "id": "71fd03e5",
   "metadata": {},
   "outputs": [
    {
     "name": "stdout",
     "output_type": "stream",
     "text": [
      "number  es mayor que number2\n"
     ]
    }
   ],
   "source": [
    "# Condicionales\n",
    "if number1>number2 and number1>10:\n",
    "    print(\"number1 es mayor que number2\")\n",
    "    print(\"number1 es mayor que 10\")\n",
    "    \n",
    "else:\n",
    "    print(\"number  es mayor que number2\")"
   ]
  },
  {
   "cell_type": "code",
   "execution_count": 32,
   "id": "27762189",
   "metadata": {},
   "outputs": [],
   "source": [
    "# Estructura de datos\n",
    "# String\n",
    "name= \"Josefino\""
   ]
  },
  {
   "cell_type": "code",
   "execution_count": 36,
   "id": "60dc9f35",
   "metadata": {},
   "outputs": [
    {
     "data": {
      "text/plain": [
       "int"
      ]
     },
     "execution_count": 36,
     "metadata": {},
     "output_type": "execute_result"
    }
   ],
   "source": [
    "type(number1)\n"
   ]
  },
  {
   "cell_type": "code",
   "execution_count": 39,
   "id": "e3aa53fc",
   "metadata": {},
   "outputs": [
    {
     "data": {
      "text/plain": [
       "tuple"
      ]
     },
     "execution_count": 39,
     "metadata": {},
     "output_type": "execute_result"
    }
   ],
   "source": [
    "type(number2)"
   ]
  },
  {
   "cell_type": "code",
   "execution_count": 40,
   "id": "d56aef87",
   "metadata": {},
   "outputs": [],
   "source": [
    "# listas\n",
    "name_list= [\"jose\", \"javier\", \"josefino\"]"
   ]
  },
  {
   "cell_type": "code",
   "execution_count": 41,
   "id": "a2241820",
   "metadata": {},
   "outputs": [],
   "source": [
    "age_list=[20,30,40,50]"
   ]
  },
  {
   "cell_type": "code",
   "execution_count": 42,
   "id": "467d2ea7",
   "metadata": {},
   "outputs": [
    {
     "data": {
      "text/plain": [
       "['jose', 'javier', 'josefino']"
      ]
     },
     "execution_count": 42,
     "metadata": {},
     "output_type": "execute_result"
    }
   ],
   "source": [
    "name_list"
   ]
  },
  {
   "cell_type": "code",
   "execution_count": 43,
   "id": "78122e38",
   "metadata": {},
   "outputs": [
    {
     "data": {
      "text/plain": [
       "'jose'"
      ]
     },
     "execution_count": 43,
     "metadata": {},
     "output_type": "execute_result"
    }
   ],
   "source": [
    "name_list[0]"
   ]
  },
  {
   "cell_type": "code",
   "execution_count": 44,
   "id": "652ac860",
   "metadata": {},
   "outputs": [
    {
     "data": {
      "text/plain": [
       "['jose', 'javier']"
      ]
     },
     "execution_count": 44,
     "metadata": {},
     "output_type": "execute_result"
    }
   ],
   "source": [
    "# Slice de una lista\n",
    "name_list[0:2]"
   ]
  },
  {
   "cell_type": "code",
   "execution_count": 46,
   "id": "bfc10276",
   "metadata": {},
   "outputs": [
    {
     "data": {
      "text/plain": [
       "['javier', 'josefino']"
      ]
     },
     "execution_count": 46,
     "metadata": {},
     "output_type": "execute_result"
    }
   ],
   "source": [
    "# Slice de una lista\n",
    "name_list[1:4]"
   ]
  },
  {
   "cell_type": "code",
   "execution_count": 47,
   "id": "8b800a93",
   "metadata": {},
   "outputs": [
    {
     "data": {
      "text/plain": [
       "3"
      ]
     },
     "execution_count": 47,
     "metadata": {},
     "output_type": "execute_result"
    }
   ],
   "source": [
    "len(name_list)"
   ]
  },
  {
   "cell_type": "code",
   "execution_count": 48,
   "id": "e456d9ca",
   "metadata": {},
   "outputs": [
    {
     "name": "stdout",
     "output_type": "stream",
     "text": [
      "jose\n",
      "javier\n",
      "josefino\n"
     ]
    }
   ],
   "source": [
    "# Ciclos finitos\n",
    "for var in name_list:\n",
    "    print (var)"
   ]
  },
  {
   "cell_type": "code",
   "execution_count": 49,
   "id": "53bd4842",
   "metadata": {},
   "outputs": [
    {
     "name": "stdout",
     "output_type": "stream",
     "text": [
      "jose\n",
      "javier\n",
      "josefino\n"
     ]
    }
   ],
   "source": [
    "# Ciclos finitos\n",
    "for name in name_list:\n",
    "    print (name)"
   ]
  },
  {
   "cell_type": "code",
   "execution_count": 53,
   "id": "352da7ae",
   "metadata": {},
   "outputs": [],
   "source": [
    "# Ciclos finitos\n",
    "for name in name_list:\n",
    "    if name == \"ruperto\":\n",
    "       print (\"Es Ruperto\")"
   ]
  },
  {
   "cell_type": "code",
   "execution_count": 54,
   "id": "6ac49ed6",
   "metadata": {},
   "outputs": [],
   "source": [
    "# Ciclos finitos\n",
    "for name in name_list:\n",
    "    if name == \"ruperto\":\n",
    "       # Imprime la posicion de la lista\n",
    "       print (name_list.index(name))"
   ]
  },
  {
   "cell_type": "code",
   "execution_count": 55,
   "id": "638780f2",
   "metadata": {},
   "outputs": [
    {
     "name": "stdout",
     "output_type": "stream",
     "text": [
      "2\n"
     ]
    }
   ],
   "source": [
    "# Ciclos finitos\n",
    "for name in name_list:\n",
    "    if name == \"josefino\":\n",
    "       # Imprime la posicion de la lista\n",
    "       print (name_list.index(name))"
   ]
  },
  {
   "cell_type": "code",
   "execution_count": 56,
   "id": "5a87bcca",
   "metadata": {},
   "outputs": [
    {
     "name": "stdout",
     "output_type": "stream",
     "text": [
      "hola\n",
      "hola\n",
      "hola\n",
      "hola\n"
     ]
    }
   ],
   "source": [
    "# Recorrido de una lista por indices\n",
    "for item in range(4):\n",
    "    print(\"hola\")"
   ]
  },
  {
   "cell_type": "code",
   "execution_count": 57,
   "id": "a315fa7f",
   "metadata": {},
   "outputs": [
    {
     "name": "stdout",
     "output_type": "stream",
     "text": [
      "hola\n",
      "hola\n",
      "hola\n"
     ]
    }
   ],
   "source": [
    "# Recorrido de una lista por indices\n",
    "for item in range(3):\n",
    "    print(\"hola\")"
   ]
  },
  {
   "cell_type": "code",
   "execution_count": 59,
   "id": "c4b14639",
   "metadata": {},
   "outputs": [
    {
     "name": "stdout",
     "output_type": "stream",
     "text": [
      "0\n",
      "1\n",
      "2\n"
     ]
    }
   ],
   "source": [
    "# Recorrido de una lista por indices\n",
    "for item in range(len(name_list)):\n",
    "    print(item)"
   ]
  },
  {
   "cell_type": "code",
   "execution_count": 60,
   "id": "50e24d31",
   "metadata": {},
   "outputs": [
    {
     "name": "stdout",
     "output_type": "stream",
     "text": [
      "jose\n",
      "javier\n",
      "josefino\n"
     ]
    }
   ],
   "source": [
    "# Recorrido de una lista por indices\n",
    "for item in range(len(name_list)):\n",
    "    print(name_list[item])"
   ]
  },
  {
   "cell_type": "code",
   "execution_count": 65,
   "id": "cabc5462",
   "metadata": {},
   "outputs": [
    {
     "name": "stdout",
     "output_type": "stream",
     "text": [
      "jose\n",
      "0\n"
     ]
    }
   ],
   "source": [
    "# Recorrido de una lista por indices\n",
    "for item in range(len(name_list)):\n",
    "    if name_list[item]==\"jose\":\n",
    "       print(name_list[item])\n",
    "       print(item)"
   ]
  },
  {
   "cell_type": "code",
   "execution_count": 66,
   "id": "1bd01dcd",
   "metadata": {},
   "outputs": [
    {
     "name": "stdout",
     "output_type": "stream",
     "text": [
      "josefino\n",
      "2\n"
     ]
    }
   ],
   "source": [
    "# Recorrido de una lista por indices\n",
    "for item in range(len(name_list)):\n",
    "    if name_list[item]==\"josefino\":\n",
    "       print(name_list[item])\n",
    "       print(item)"
   ]
  },
  {
   "cell_type": "code",
   "execution_count": null,
   "id": "d7b71184",
   "metadata": {},
   "outputs": [],
   "source": []
  }
 ],
 "metadata": {
  "kernelspec": {
   "display_name": "Python 3",
   "language": "python",
   "name": "python3"
  },
  "language_info": {
   "codemirror_mode": {
    "name": "ipython",
    "version": 3
   },
   "file_extension": ".py",
   "mimetype": "text/x-python",
   "name": "python",
   "nbconvert_exporter": "python",
   "pygments_lexer": "ipython3",
   "version": "3.13.3"
  }
 },
 "nbformat": 4,
 "nbformat_minor": 5
}
